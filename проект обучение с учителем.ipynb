{
 "cells": [
  {
   "cell_type": "markdown",
   "metadata": {
    "toc": true
   },
   "source": [
    "<h1>Содержание<span class=\"tocSkip\"></span></h1>\n",
    "<div class=\"toc\"><ul class=\"toc-item\"><li><span><a href=\"#Исследование-задачи\" data-toc-modified-id=\"Исследование-задачи-1\"><span class=\"toc-item-num\">1&nbsp;&nbsp;</span>Исследование задачи</a></span></li><li><span><a href=\"#Борьба-с-дисбалансом\" data-toc-modified-id=\"Борьба-с-дисбалансом-2\"><span class=\"toc-item-num\">2&nbsp;&nbsp;</span>Борьба с дисбалансом</a></span></li><li><span><a href=\"#Тестирование-модели\" data-toc-modified-id=\"Тестирование-модели-3\"><span class=\"toc-item-num\">3&nbsp;&nbsp;</span>Тестирование модели</a></span></li></ul></div>"
   ]
  },
  {
   "cell_type": "markdown",
   "metadata": {},
   "source": [
    "# Отток клиентов"
   ]
  },
  {
   "cell_type": "markdown",
   "metadata": {},
   "source": [
    "Из «Бета-Банка» стали уходить клиенты. Каждый месяц. Немного, но заметно. Банковские маркетологи посчитали: сохранять текущих клиентов дешевле, чем привлекать новых.\n",
    "\n",
    "Нужно спрогнозировать, уйдёт клиент из банка в ближайшее время или нет. Вам предоставлены исторические данные о поведении клиентов и расторжении договоров с банком. \n",
    "\n",
    "Постройте модель с предельно большим значением *F1*-меры. Чтобы сдать проект успешно, нужно довести метрику до 0.59. Проверьте *F1*-меру на тестовой выборке самостоятельно.\n",
    "\n",
    "Дополнительно измеряйте *AUC-ROC*, сравнивайте её значение с *F1*-мерой.\n",
    "\n",
    "Источник данных: [https://www.kaggle.com/barelydedicated/bank-customer-churn-modeling](https://www.kaggle.com/barelydedicated/bank-customer-churn-modeling)"
   ]
  },
  {
   "cell_type": "markdown",
   "metadata": {},
   "source": [
    "# Подготовка данных"
   ]
  },
  {
   "cell_type": "code",
   "execution_count": 8,
   "metadata": {},
   "outputs": [],
   "source": [
    "import pandas as pd\n",
    "import matplotlib.pyplot as plt\n",
    "\n",
    "from sklearn.preprocessing import MinMaxScaler\n",
    "from sklearn.utils import shuffle\n",
    "from sklearn.model_selection import train_test_split, GridSearchCV\n",
    "from sklearn.metrics import accuracy_score, f1_score, recall_score, precision_score, roc_auc_score, roc_curve, confusion_matrix\n",
    "\n",
    "\n",
    "from sklearn.linear_model import LogisticRegression\n",
    "from sklearn.ensemble import RandomForestClassifier\n",
    "from sklearn.preprocessing import StandardScaler\n",
    "from sklearn.tree import DecisionTreeClassifier\n",
    "from sklearn.dummy import DummyClassifier\n",
    "\n",
    "\n",
    "import warnings\n",
    "warnings.filterwarnings(\"ignore\")"
   ]
  },
  {
   "cell_type": "markdown",
   "metadata": {},
   "source": [
    "<div class=\"alert alert-block alert-success\">\n",
    "<b>✔️ Успех:</b>\n",
    "\n",
    "Импорт выглядит отлично 👍\n",
    "</div>"
   ]
  },
  {
   "cell_type": "code",
   "execution_count": 17,
   "metadata": {},
   "outputs": [],
   "source": [
    "df = pd.read_csv('/datasets/Churn.csv')\n",
    "\n"
   ]
  },
  {
   "cell_type": "code",
   "execution_count": 18,
   "metadata": {},
   "outputs": [
    {
     "name": "stdout",
     "output_type": "stream",
     "text": [
      "<class 'pandas.core.frame.DataFrame'>\n",
      "RangeIndex: 10000 entries, 0 to 9999\n",
      "Data columns (total 14 columns):\n",
      " #   Column           Non-Null Count  Dtype  \n",
      "---  ------           --------------  -----  \n",
      " 0   RowNumber        10000 non-null  int64  \n",
      " 1   CustomerId       10000 non-null  int64  \n",
      " 2   Surname          10000 non-null  object \n",
      " 3   CreditScore      10000 non-null  int64  \n",
      " 4   Geography        10000 non-null  object \n",
      " 5   Gender           10000 non-null  object \n",
      " 6   Age              10000 non-null  int64  \n",
      " 7   Tenure           9091 non-null   float64\n",
      " 8   Balance          10000 non-null  float64\n",
      " 9   NumOfProducts    10000 non-null  int64  \n",
      " 10  HasCrCard        10000 non-null  int64  \n",
      " 11  IsActiveMember   10000 non-null  int64  \n",
      " 12  EstimatedSalary  10000 non-null  float64\n",
      " 13  Exited           10000 non-null  int64  \n",
      "dtypes: float64(3), int64(8), object(3)\n",
      "memory usage: 1.1+ MB\n"
     ]
    }
   ],
   "source": [
    "df.info()"
   ]
  },
  {
   "cell_type": "code",
   "execution_count": 19,
   "metadata": {},
   "outputs": [],
   "source": [
    "# Переведем названия в нижний регистр\n",
    "df.columns = df.columns.str.lower()"
   ]
  },
  {
   "cell_type": "code",
   "execution_count": 22,
   "metadata": {},
   "outputs": [
    {
     "data": {
      "text/html": [
       "<div>\n",
       "<style scoped>\n",
       "    .dataframe tbody tr th:only-of-type {\n",
       "        vertical-align: middle;\n",
       "    }\n",
       "\n",
       "    .dataframe tbody tr th {\n",
       "        vertical-align: top;\n",
       "    }\n",
       "\n",
       "    .dataframe thead th {\n",
       "        text-align: right;\n",
       "    }\n",
       "</style>\n",
       "<table border=\"1\" class=\"dataframe\">\n",
       "  <thead>\n",
       "    <tr style=\"text-align: right;\">\n",
       "      <th></th>\n",
       "      <th>rownumber</th>\n",
       "      <th>customerid</th>\n",
       "      <th>surname</th>\n",
       "      <th>creditscore</th>\n",
       "      <th>geography</th>\n",
       "      <th>gender</th>\n",
       "      <th>age</th>\n",
       "      <th>tenure</th>\n",
       "      <th>balance</th>\n",
       "      <th>numofproducts</th>\n",
       "      <th>hascrcard</th>\n",
       "      <th>isactivemember</th>\n",
       "      <th>estimatedsalary</th>\n",
       "      <th>exited</th>\n",
       "    </tr>\n",
       "  </thead>\n",
       "  <tbody>\n",
       "    <tr>\n",
       "      <th>0</th>\n",
       "      <td>1</td>\n",
       "      <td>15634602</td>\n",
       "      <td>Hargrave</td>\n",
       "      <td>619</td>\n",
       "      <td>France</td>\n",
       "      <td>Female</td>\n",
       "      <td>42</td>\n",
       "      <td>2.0</td>\n",
       "      <td>0.00</td>\n",
       "      <td>1</td>\n",
       "      <td>1</td>\n",
       "      <td>1</td>\n",
       "      <td>101348.88</td>\n",
       "      <td>1</td>\n",
       "    </tr>\n",
       "    <tr>\n",
       "      <th>1</th>\n",
       "      <td>2</td>\n",
       "      <td>15647311</td>\n",
       "      <td>Hill</td>\n",
       "      <td>608</td>\n",
       "      <td>Spain</td>\n",
       "      <td>Female</td>\n",
       "      <td>41</td>\n",
       "      <td>1.0</td>\n",
       "      <td>83807.86</td>\n",
       "      <td>1</td>\n",
       "      <td>0</td>\n",
       "      <td>1</td>\n",
       "      <td>112542.58</td>\n",
       "      <td>0</td>\n",
       "    </tr>\n",
       "    <tr>\n",
       "      <th>2</th>\n",
       "      <td>3</td>\n",
       "      <td>15619304</td>\n",
       "      <td>Onio</td>\n",
       "      <td>502</td>\n",
       "      <td>France</td>\n",
       "      <td>Female</td>\n",
       "      <td>42</td>\n",
       "      <td>8.0</td>\n",
       "      <td>159660.80</td>\n",
       "      <td>3</td>\n",
       "      <td>1</td>\n",
       "      <td>0</td>\n",
       "      <td>113931.57</td>\n",
       "      <td>1</td>\n",
       "    </tr>\n",
       "    <tr>\n",
       "      <th>3</th>\n",
       "      <td>4</td>\n",
       "      <td>15701354</td>\n",
       "      <td>Boni</td>\n",
       "      <td>699</td>\n",
       "      <td>France</td>\n",
       "      <td>Female</td>\n",
       "      <td>39</td>\n",
       "      <td>1.0</td>\n",
       "      <td>0.00</td>\n",
       "      <td>2</td>\n",
       "      <td>0</td>\n",
       "      <td>0</td>\n",
       "      <td>93826.63</td>\n",
       "      <td>0</td>\n",
       "    </tr>\n",
       "    <tr>\n",
       "      <th>4</th>\n",
       "      <td>5</td>\n",
       "      <td>15737888</td>\n",
       "      <td>Mitchell</td>\n",
       "      <td>850</td>\n",
       "      <td>Spain</td>\n",
       "      <td>Female</td>\n",
       "      <td>43</td>\n",
       "      <td>2.0</td>\n",
       "      <td>125510.82</td>\n",
       "      <td>1</td>\n",
       "      <td>1</td>\n",
       "      <td>1</td>\n",
       "      <td>79084.10</td>\n",
       "      <td>0</td>\n",
       "    </tr>\n",
       "  </tbody>\n",
       "</table>\n",
       "</div>"
      ],
      "text/plain": [
       "   rownumber  customerid   surname  creditscore geography  gender  age  \\\n",
       "0          1    15634602  Hargrave          619    France  Female   42   \n",
       "1          2    15647311      Hill          608     Spain  Female   41   \n",
       "2          3    15619304      Onio          502    France  Female   42   \n",
       "3          4    15701354      Boni          699    France  Female   39   \n",
       "4          5    15737888  Mitchell          850     Spain  Female   43   \n",
       "\n",
       "   tenure    balance  numofproducts  hascrcard  isactivemember  \\\n",
       "0     2.0       0.00              1          1               1   \n",
       "1     1.0   83807.86              1          0               1   \n",
       "2     8.0  159660.80              3          1               0   \n",
       "3     1.0       0.00              2          0               0   \n",
       "4     2.0  125510.82              1          1               1   \n",
       "\n",
       "   estimatedsalary  exited  \n",
       "0        101348.88       1  \n",
       "1        112542.58       0  \n",
       "2        113931.57       1  \n",
       "3         93826.63       0  \n",
       "4         79084.10       0  "
      ]
     },
     "execution_count": 22,
     "metadata": {},
     "output_type": "execute_result"
    }
   ],
   "source": [
    "df.head()"
   ]
  },
  {
   "cell_type": "code",
   "execution_count": 5,
   "metadata": {},
   "outputs": [
    {
     "data": {
      "image/png": "[encoded data removed]",
      "text/plain": [
       "<Figure size 1872x1872 with 12 Axes>"
      ]
     },
     "metadata": {
      "needs_background": "light"
     },
     "output_type": "display_data"
    }
   ],
   "source": [
    "df.hist(figsize=(26,26), bins=30)\n",
    "plt.show()"
   ]
  },
  {
   "cell_type": "code",
   "execution_count": 29,
   "metadata": {},
   "outputs": [
    {
     "data": {
      "text/plain": [
       "0"
      ]
     },
     "execution_count": 29,
     "metadata": {},
     "output_type": "execute_result"
    }
   ],
   "source": [
    "#Проверим на дубликаты\n",
    "df.duplicated().sum()"
   ]
  },
  {
   "cell_type": "code",
   "execution_count": 30,
   "metadata": {},
   "outputs": [],
   "source": [
    "df['tenure'] = df['tenure'].fillna(0)"
   ]
  },
  {
   "cell_type": "markdown",
   "metadata": {},
   "source": [
    "В одном столбе tenure есть пропуски.\n",
    "Я предпринял решение удалить объекты с пропущенными значениями, так как количество не велико(около 10%), что не появлиеят на ход моего проекта."
   ]
  },
  {
   "cell_type": "markdown",
   "metadata": {},
   "source": [
    "<div class=\"alert alert-block alert-success\">\n",
    "<b>✔️ Успех:</b>\n",
    "    \n",
    "Согласен с таким заполнением 👍\n",
    "</div>"
   ]
  },
  {
   "cell_type": "markdown",
   "metadata": {},
   "source": [
    "# Вывод\n",
    "\n",
    "RowNumber — столбец дублирует информацию стандартного датафрейма и не несетя ценности для обучения модели, поэтому столбец можно удалить\n",
    "CustomerId — является идентификатором пользователя, стоблец также можно удалить.\n",
    "Surname — является идентифицирующей пользователя информацией, не несет ценности для качества будущей модели — столбец можно удалить.\n",
    "Geography — всего 3 уникальных значения France', 'Spain', 'Germany' — выполнить преобразование OHE / ordinal encoding\n",
    "Gender — значение преобразовать — OHE"
   ]
  },
  {
   "cell_type": "markdown",
   "metadata": {},
   "source": [
    "## Исследование задачи"
   ]
  },
  {
   "cell_type": "markdown",
   "metadata": {},
   "source": [
    "Подготовка данных для ML"
   ]
  },
  {
   "cell_type": "code",
   "execution_count": 21,
   "metadata": {},
   "outputs": [
    {
     "data": {
      "text/html": [
       "<div>\n",
       "<style scoped>\n",
       "    .dataframe tbody tr th:only-of-type {\n",
       "        vertical-align: middle;\n",
       "    }\n",
       "\n",
       "    .dataframe tbody tr th {\n",
       "        vertical-align: top;\n",
       "    }\n",
       "\n",
       "    .dataframe thead th {\n",
       "        text-align: right;\n",
       "    }\n",
       "</style>\n",
       "<table border=\"1\" class=\"dataframe\">\n",
       "  <thead>\n",
       "    <tr style=\"text-align: right;\">\n",
       "      <th></th>\n",
       "      <th>creditscore</th>\n",
       "      <th>geography</th>\n",
       "      <th>gender</th>\n",
       "      <th>age</th>\n",
       "      <th>tenure</th>\n",
       "      <th>balance</th>\n",
       "      <th>numofproducts</th>\n",
       "      <th>hascrcard</th>\n",
       "      <th>isactivemember</th>\n",
       "      <th>estimatedsalary</th>\n",
       "      <th>exited</th>\n",
       "    </tr>\n",
       "  </thead>\n",
       "  <tbody>\n",
       "    <tr>\n",
       "      <th>0</th>\n",
       "      <td>619</td>\n",
       "      <td>France</td>\n",
       "      <td>Female</td>\n",
       "      <td>42</td>\n",
       "      <td>2.0</td>\n",
       "      <td>0.00</td>\n",
       "      <td>1</td>\n",
       "      <td>1</td>\n",
       "      <td>1</td>\n",
       "      <td>101348.88</td>\n",
       "      <td>1</td>\n",
       "    </tr>\n",
       "    <tr>\n",
       "      <th>1</th>\n",
       "      <td>608</td>\n",
       "      <td>Spain</td>\n",
       "      <td>Female</td>\n",
       "      <td>41</td>\n",
       "      <td>1.0</td>\n",
       "      <td>83807.86</td>\n",
       "      <td>1</td>\n",
       "      <td>0</td>\n",
       "      <td>1</td>\n",
       "      <td>112542.58</td>\n",
       "      <td>0</td>\n",
       "    </tr>\n",
       "    <tr>\n",
       "      <th>2</th>\n",
       "      <td>502</td>\n",
       "      <td>France</td>\n",
       "      <td>Female</td>\n",
       "      <td>42</td>\n",
       "      <td>8.0</td>\n",
       "      <td>159660.80</td>\n",
       "      <td>3</td>\n",
       "      <td>1</td>\n",
       "      <td>0</td>\n",
       "      <td>113931.57</td>\n",
       "      <td>1</td>\n",
       "    </tr>\n",
       "    <tr>\n",
       "      <th>3</th>\n",
       "      <td>699</td>\n",
       "      <td>France</td>\n",
       "      <td>Female</td>\n",
       "      <td>39</td>\n",
       "      <td>1.0</td>\n",
       "      <td>0.00</td>\n",
       "      <td>2</td>\n",
       "      <td>0</td>\n",
       "      <td>0</td>\n",
       "      <td>93826.63</td>\n",
       "      <td>0</td>\n",
       "    </tr>\n",
       "    <tr>\n",
       "      <th>4</th>\n",
       "      <td>850</td>\n",
       "      <td>Spain</td>\n",
       "      <td>Female</td>\n",
       "      <td>43</td>\n",
       "      <td>2.0</td>\n",
       "      <td>125510.82</td>\n",
       "      <td>1</td>\n",
       "      <td>1</td>\n",
       "      <td>1</td>\n",
       "      <td>79084.10</td>\n",
       "      <td>0</td>\n",
       "    </tr>\n",
       "  </tbody>\n",
       "</table>\n",
       "</div>"
      ],
      "text/plain": [
       "   creditscore geography  gender  age  tenure    balance  numofproducts  \\\n",
       "0          619    France  Female   42     2.0       0.00              1   \n",
       "1          608     Spain  Female   41     1.0   83807.86              1   \n",
       "2          502    France  Female   42     8.0  159660.80              3   \n",
       "3          699    France  Female   39     1.0       0.00              2   \n",
       "4          850     Spain  Female   43     2.0  125510.82              1   \n",
       "\n",
       "   hascrcard  isactivemember  estimatedsalary  exited  \n",
       "0          1               1        101348.88       1  \n",
       "1          0               1        112542.58       0  \n",
       "2          1               0        113931.57       1  \n",
       "3          0               0         93826.63       0  \n",
       "4          1               1         79084.10       0  "
      ]
     },
     "execution_count": 21,
     "metadata": {},
     "output_type": "execute_result"
    }
   ],
   "source": [
    "#Обозначим новый датафрейм \"df_ml\" — данные для ml\n",
    "#Удалим столбцы-идентификаторы, не представляющие ценностия для алгоритма \n",
    "df_ml = df.drop(['rownumber','customerid', 'surname'], axis=1)\n",
    "df_ml.head()"
   ]
  },
  {
   "cell_type": "markdown",
   "metadata": {},
   "source": [
    "<div class=\"alert alert-block alert-success\">\n",
    "<b>✔️ Успех:</b>\n",
    "\n",
    "Удалить неинформативные признаки - хорошее решение 👍\n",
    "</div>"
   ]
  },
  {
   "cell_type": "code",
   "execution_count": 86,
   "metadata": {},
   "outputs": [
    {
     "data": {
      "text/plain": [
       "(10000, 11)"
      ]
     },
     "execution_count": 86,
     "metadata": {},
     "output_type": "execute_result"
    }
   ],
   "source": [
    "df_ml.shape"
   ]
  },
  {
   "cell_type": "markdown",
   "metadata": {},
   "source": [
    "# Создам выборки\n",
    "Обучающая - 60%, Валидационная - 20%, тестовая - 20%"
   ]
  },
  {
   "cell_type": "code",
   "execution_count": 32,
   "metadata": {},
   "outputs": [],
   "source": [
    "#Разделим на признаки и целевой признак\n",
    "features = df_ml.drop('exited', axis=1)\n",
    "target = df_ml['exited']"
   ]
  },
  {
   "cell_type": "code",
   "execution_count": 33,
   "metadata": {},
   "outputs": [],
   "source": [
    "#Тренеровочная 60%\n",
    "features_train, features_validtest, target_train, target_validtest = train_test_split(\n",
    "    features, target, train_size=0.6, random_state=12345)"
   ]
  },
  {
   "cell_type": "code",
   "execution_count": 34,
   "metadata": {},
   "outputs": [],
   "source": [
    "#Валид и тест соответственно поровну по 20% от общей\n",
    "features_valid, features_test, target_valid, target_test = train_test_split(\n",
    "    features_validtest, target_validtest, train_size=0.5, random_state=12345)"
   ]
  },
  {
   "cell_type": "code",
   "execution_count": 35,
   "metadata": {},
   "outputs": [],
   "source": [
    "#Данные перекодирую методом OHE, что позволит мне использовать разные модели и не попасть дамми ловушку\n",
    "features_train = pd.get_dummies(features_train, drop_first=True)\n",
    "features_valid = pd.get_dummies(features_valid, drop_first=True)\n",
    "features_test = pd.get_dummies(features_test, drop_first=True)"
   ]
  },
  {
   "cell_type": "markdown",
   "metadata": {},
   "source": [
    "<div class=\"alert alert-block alert-success\">\n",
    "<b>✔️ Успех:</b> \n",
    "\n",
    "Данные поделены верно, пропорции выбраны адекватные 👍\n",
    "</div>"
   ]
  },
  {
   "cell_type": "markdown",
   "metadata": {},
   "source": [
    "# Вывод:\n",
    "- Были созданны выборки:\n",
    "- Обучающая features_train target_train,\n",
    "- Валидационная features_valid target_valid,\n",
    "- Тестовая features_test target_test"
   ]
  },
  {
   "cell_type": "code",
   "execution_count": 37,
   "metadata": {},
   "outputs": [
    {
     "data": {
      "text/html": [
       "<div>\n",
       "<style scoped>\n",
       "    .dataframe tbody tr th:only-of-type {\n",
       "        vertical-align: middle;\n",
       "    }\n",
       "\n",
       "    .dataframe tbody tr th {\n",
       "        vertical-align: top;\n",
       "    }\n",
       "\n",
       "    .dataframe thead th {\n",
       "        text-align: right;\n",
       "    }\n",
       "</style>\n",
       "<table border=\"1\" class=\"dataframe\">\n",
       "  <thead>\n",
       "    <tr style=\"text-align: right;\">\n",
       "      <th></th>\n",
       "      <th>creditscore</th>\n",
       "      <th>age</th>\n",
       "      <th>tenure</th>\n",
       "      <th>balance</th>\n",
       "      <th>numofproducts</th>\n",
       "      <th>hascrcard</th>\n",
       "      <th>isactivemember</th>\n",
       "      <th>estimatedsalary</th>\n",
       "      <th>geography_Germany</th>\n",
       "      <th>geography_Spain</th>\n",
       "      <th>gender_Male</th>\n",
       "    </tr>\n",
       "  </thead>\n",
       "  <tbody>\n",
       "    <tr>\n",
       "      <th>7479</th>\n",
       "      <td>567</td>\n",
       "      <td>35</td>\n",
       "      <td>8.0</td>\n",
       "      <td>153137.74</td>\n",
       "      <td>1</td>\n",
       "      <td>1</td>\n",
       "      <td>0</td>\n",
       "      <td>88659.07</td>\n",
       "      <td>0</td>\n",
       "      <td>1</td>\n",
       "      <td>1</td>\n",
       "    </tr>\n",
       "    <tr>\n",
       "      <th>3411</th>\n",
       "      <td>711</td>\n",
       "      <td>37</td>\n",
       "      <td>8.0</td>\n",
       "      <td>113899.92</td>\n",
       "      <td>1</td>\n",
       "      <td>0</td>\n",
       "      <td>0</td>\n",
       "      <td>80215.20</td>\n",
       "      <td>0</td>\n",
       "      <td>0</td>\n",
       "      <td>0</td>\n",
       "    </tr>\n",
       "    <tr>\n",
       "      <th>6027</th>\n",
       "      <td>850</td>\n",
       "      <td>44</td>\n",
       "      <td>3.0</td>\n",
       "      <td>140393.65</td>\n",
       "      <td>2</td>\n",
       "      <td>0</td>\n",
       "      <td>1</td>\n",
       "      <td>186285.52</td>\n",
       "      <td>1</td>\n",
       "      <td>0</td>\n",
       "      <td>1</td>\n",
       "    </tr>\n",
       "    <tr>\n",
       "      <th>1247</th>\n",
       "      <td>512</td>\n",
       "      <td>24</td>\n",
       "      <td>6.0</td>\n",
       "      <td>0.00</td>\n",
       "      <td>2</td>\n",
       "      <td>1</td>\n",
       "      <td>0</td>\n",
       "      <td>37654.31</td>\n",
       "      <td>0</td>\n",
       "      <td>0</td>\n",
       "      <td>1</td>\n",
       "    </tr>\n",
       "    <tr>\n",
       "      <th>3716</th>\n",
       "      <td>665</td>\n",
       "      <td>27</td>\n",
       "      <td>2.0</td>\n",
       "      <td>147435.96</td>\n",
       "      <td>1</td>\n",
       "      <td>0</td>\n",
       "      <td>0</td>\n",
       "      <td>187508.06</td>\n",
       "      <td>1</td>\n",
       "      <td>0</td>\n",
       "      <td>0</td>\n",
       "    </tr>\n",
       "  </tbody>\n",
       "</table>\n",
       "</div>"
      ],
      "text/plain": [
       "      creditscore  age  tenure    balance  numofproducts  hascrcard  \\\n",
       "7479          567   35     8.0  153137.74              1          1   \n",
       "3411          711   37     8.0  113899.92              1          0   \n",
       "6027          850   44     3.0  140393.65              2          0   \n",
       "1247          512   24     6.0       0.00              2          1   \n",
       "3716          665   27     2.0  147435.96              1          0   \n",
       "\n",
       "      isactivemember  estimatedsalary  geography_Germany  geography_Spain  \\\n",
       "7479               0         88659.07                  0                1   \n",
       "3411               0         80215.20                  0                0   \n",
       "6027               1        186285.52                  1                0   \n",
       "1247               0         37654.31                  0                0   \n",
       "3716               0        187508.06                  1                0   \n",
       "\n",
       "      gender_Male  \n",
       "7479            1  \n",
       "3411            0  \n",
       "6027            1  \n",
       "1247            1  \n",
       "3716            0  "
      ]
     },
     "execution_count": 37,
     "metadata": {},
     "output_type": "execute_result"
    }
   ],
   "source": [
    "features_train.head()"
   ]
  },
  {
   "cell_type": "code",
   "execution_count": 38,
   "metadata": {},
   "outputs": [],
   "source": [
    "#Для масштабирования методом scaler зафиксируем численные признаки\n",
    "numeric = ['creditscore', 'age', 'tenure', 'balance', 'numofproducts', 'estimatedsalary']"
   ]
  },
  {
   "cell_type": "code",
   "execution_count": 39,
   "metadata": {},
   "outputs": [
    {
     "data": {
      "text/plain": [
       "StandardScaler()"
      ]
     },
     "execution_count": 39,
     "metadata": {},
     "output_type": "execute_result"
    }
   ],
   "source": [
    "scaler = StandardScaler()\n",
    "scaler.fit(features_train[numeric])"
   ]
  },
  {
   "cell_type": "code",
   "execution_count": 40,
   "metadata": {},
   "outputs": [],
   "source": [
    "#Масштабируем числовые признаки обучающей выборки\n",
    "features_train[numeric] = scaler.transform(features_train[numeric])"
   ]
  },
  {
   "cell_type": "code",
   "execution_count": 41,
   "metadata": {},
   "outputs": [],
   "source": [
    "#Масштабируем численные признаки валидационной выборки \n",
    "features_valid[numeric] = scaler.transform(features_valid[numeric])"
   ]
  },
  {
   "cell_type": "code",
   "execution_count": 42,
   "metadata": {},
   "outputs": [],
   "source": [
    "#Масштабируем численные признаки тестовой выборки \n",
    "features_test[numeric] = scaler.transform(features_test[numeric])"
   ]
  },
  {
   "cell_type": "markdown",
   "metadata": {},
   "source": [
    "<div class=\"alert alert-block alert-success\">\n",
    "<b>✔️ Успех:</b>\n",
    "\n",
    "Отлично, признаки масштабированы 👍 Не забыли, что fit нужно делать только на train выборке.\n",
    "</div>"
   ]
  },
  {
   "cell_type": "markdown",
   "metadata": {},
   "source": [
    "# Применение модели машинного обучения\n",
    "В результате мы имеем масштабированные признаки для трех выборок, начну  обучение моделей."
   ]
  },
  {
   "cell_type": "code",
   "execution_count": 43,
   "metadata": {},
   "outputs": [],
   "source": [
    "def all_models_accuracy(features_train, target_train, features_valid, target_valid):\n",
    "    model_DTC = DecisionTreeClassifier(random_state=1515)\n",
    "    DTC_score = model_DTC.fit(features_train, target_train).score(features_valid, target_valid)\n",
    "    \n",
    "    model_RFC = RandomForestClassifier(max_depth=7, n_estimators=43, min_samples_leaf=3, random_state=1515)\n",
    "    RFC_score = model_RFC.fit(features_train, target_train).score(features_valid, target_valid)\n",
    "    \n",
    "    model_LgR = LogisticRegression(solver = 'liblinear')\n",
    "    LgR_score = model_LgR.fit(features_train, target_train).score(features_valid, target_valid)\n",
    "    print(\"Точность:\" \"дерево решений\", DTC_score, \"случайный лес \", RFC_score, \"логистческая регрессия\", LgR_score)"
   ]
  },
  {
   "cell_type": "code",
   "execution_count": 44,
   "metadata": {},
   "outputs": [
    {
     "name": "stdout",
     "output_type": "stream",
     "text": [
      "Точность:дерево решений 0.788 случайный лес  0.857 логистческая регрессия 0.8025\n"
     ]
    }
   ],
   "source": [
    "all_models_accuracy(features_train, target_train, features_valid, target_valid)"
   ]
  },
  {
   "cell_type": "code",
   "execution_count": 45,
   "metadata": {},
   "outputs": [
    {
     "data": {
      "text/plain": [
       "0    0.800667\n",
       "1    0.199333\n",
       "Name: exited, dtype: float64"
      ]
     },
     "execution_count": 45,
     "metadata": {},
     "output_type": "execute_result"
    }
   ],
   "source": [
    "target_train.value_counts(normalize = 1)"
   ]
  },
  {
   "cell_type": "code",
   "execution_count": 46,
   "metadata": {},
   "outputs": [
    {
     "data": {
      "image/png": "[encoded data removed]",
      "text/plain": [
       "<Figure size 360x360 with 1 Axes>"
      ]
     },
     "metadata": {
      "needs_background": "light"
     },
     "output_type": "display_data"
    }
   ],
   "source": [
    "# Построим диаграмму баланса классов\n",
    "target_train.plot(kind ='hist', bins=5, figsize=(5,5));"
   ]
  },
  {
   "cell_type": "markdown",
   "metadata": {},
   "source": [
    "Как я выяснил в нашей выборке отрицательны ответов приблизительно 80% , положитительных приблизительно 20%. Я наблюдаю  дисбаланс."
   ]
  },
  {
   "cell_type": "markdown",
   "metadata": {},
   "source": [
    "<div class=\"alert alert-block alert-success\">\n",
    "<b>✔️ Успех:</b>\n",
    "\n",
    "Виден явный дисбаланс классов в пользу отрицательного класса. Если мы будем всех людей прогнозировать, что они не уйдут из банка, то в 80% случаев мы будем правы.\n",
    "</div>"
   ]
  },
  {
   "cell_type": "code",
   "execution_count": 47,
   "metadata": {},
   "outputs": [],
   "source": [
    "#Заранее напишем функцию для изучия полноты, точности и F1-меры\n",
    "def rec_prec_f1(target_valid, prediction):\n",
    "    print(\"Полнота\" , recall_score(target_valid, prediction))\n",
    "    print(\"Точность\", precision_score(target_valid, prediction))\n",
    "    print(\"F1-мера\", f1_score(target_valid, prediction))"
   ]
  },
  {
   "cell_type": "code",
   "execution_count": 48,
   "metadata": {},
   "outputs": [],
   "source": [
    "# Функция для отображения соотношения ответов моделей\n",
    "def all_models_share(features_train, target_train, features_valid, target_valid):\n",
    "    model_DTC = DecisionTreeClassifier(random_state=1010)\n",
    "    model_DTC.fit(features_train, target_train)\n",
    "    DTC_share = pd.Series(model_DTC.predict(features_valid)).value_counts(normalize = 1)\n",
    "    \n",
    "    \n",
    "    \n",
    "    model_RFC = RandomForestClassifier(random_state=1010, n_estimators = 100)\n",
    "    model_RFC.fit(features_train, target_train)\n",
    "    RFC_share = pd.Series(model_RFC.predict(features_valid)).value_counts(normalize = 1)\n",
    "    \n",
    "    model_LgR = LogisticRegression(solver = 'liblinear')\n",
    "    model_LgR.fit(features_train, target_train)\n",
    "    LgR_share = pd.Series(model_LgR.predict(features_valid)).value_counts(normalize = 1)\n",
    "    \n",
    "\n",
    "    \n",
    "    print(\"Доли ответов:\" \"Дерево решений\", DTC_share, \"Случайный лес \", RFC_share, \"Логистческая регрессия\", LgR_share , end='')"
   ]
  },
  {
   "cell_type": "code",
   "execution_count": 49,
   "metadata": {},
   "outputs": [
    {
     "name": "stdout",
     "output_type": "stream",
     "text": [
      "Доли ответов:Дерево решений 0    0.7925\n",
      "1    0.2075\n",
      "dtype: float64 Случайный лес  0    0.8725\n",
      "1    0.1275\n",
      "dtype: float64 Логистческая регрессия 0    0.9125\n",
      "1    0.0875\n",
      "dtype: float64"
     ]
    }
   ],
   "source": [
    "#Применим функцию отображения соотношения ответов моделей\n",
    "all_models_share(features_train, target_train, features_valid, target_valid)"
   ]
  },
  {
   "cell_type": "markdown",
   "metadata": {},
   "source": [
    "Логистичесая регрессия показывала самую высокую точность, далее случайный лес и в конце дерево решений\n",
    "\n",
    "построю матрицы ошибок для моделей\n",
    "\n",
    "# Лес решений"
   ]
  },
  {
   "cell_type": "code",
   "execution_count": 50,
   "metadata": {},
   "outputs": [
    {
     "data": {
      "text/plain": [
       "array([[1521,   61],\n",
       "       [ 224,  194]])"
      ]
     },
     "execution_count": 50,
     "metadata": {},
     "output_type": "execute_result"
    }
   ],
   "source": [
    "model_RFC = RandomForestClassifier(random_state=1010, n_estimators = 100)\n",
    "model_RFC.fit(features_train, target_train)\n",
    "RFC_prediction = model_RFC.predict(features_valid)\n",
    "confusion_matrix(target_valid, RFC_prediction)"
   ]
  },
  {
   "cell_type": "code",
   "execution_count": 51,
   "metadata": {},
   "outputs": [
    {
     "name": "stdout",
     "output_type": "stream",
     "text": [
      "Полнота 0.46411483253588515\n",
      "Точность 0.7607843137254902\n",
      "F1-мера 0.5765230312035662\n"
     ]
    }
   ],
   "source": [
    "rec_prec_f1(target_valid, RFC_prediction)"
   ]
  },
  {
   "cell_type": "code",
   "execution_count": 52,
   "metadata": {},
   "outputs": [
    {
     "data": {
      "text/plain": [
       "0.8458419782360165"
      ]
     },
     "execution_count": 52,
     "metadata": {},
     "output_type": "execute_result"
    }
   ],
   "source": [
    "#Расчет roc_auc_RFC\n",
    "RFC_probabilities_one_valid = model_RFC.predict_proba(features_valid)[:, 1]\n",
    "auc_roc_RFC = roc_auc_score(target_valid, RFC_probabilities_one_valid)\n",
    "auc_roc_RFC"
   ]
  },
  {
   "cell_type": "markdown",
   "metadata": {},
   "source": [
    "Вывод лес решений примерно равную пропорцию позитивных и негативных предсказаний, выдает заметно больше качественных предсказаний, но также сильно склоняется к ложно позитивным предсказаниям (FP). Точность и качество также низкое."
   ]
  },
  {
   "cell_type": "markdown",
   "metadata": {},
   "source": [
    "# Дерево решений"
   ]
  },
  {
   "cell_type": "code",
   "execution_count": 53,
   "metadata": {},
   "outputs": [
    {
     "data": {
      "text/plain": [
       "array([[1380,  202],\n",
       "       [ 222,  196]])"
      ]
     },
     "execution_count": 53,
     "metadata": {},
     "output_type": "execute_result"
    }
   ],
   "source": [
    "#Матрица ошибок для дерево решений\n",
    "model_DTC = DecisionTreeClassifier(random_state=1515)\n",
    "model_DTC.fit(features_train, target_train)\n",
    "DTC_prediction = model_DTC.predict(features_valid)\n",
    "confusion_matrix(target_valid, DTC_prediction)"
   ]
  },
  {
   "cell_type": "markdown",
   "metadata": {},
   "source": [
    "Вывод Матрица показала, что дерево решений склонно выдавать позитивные предсказания, очень высокое количество ложных позитивных предсказания (FP)"
   ]
  },
  {
   "cell_type": "code",
   "execution_count": 54,
   "metadata": {},
   "outputs": [
    {
     "name": "stdout",
     "output_type": "stream",
     "text": [
      "Полнота 0.4688995215311005\n",
      "Точность 0.49246231155778897\n",
      "F1-мера 0.4803921568627451\n"
     ]
    }
   ],
   "source": [
    "rec_prec_f1(target_valid, DTC_prediction)"
   ]
  },
  {
   "cell_type": "code",
   "execution_count": 55,
   "metadata": {},
   "outputs": [
    {
     "data": {
      "text/plain": [
       "0.6706065243559421"
      ]
     },
     "execution_count": 55,
     "metadata": {},
     "output_type": "execute_result"
    }
   ],
   "source": [
    "#Расчет roc_auc_DTC\n",
    "DTC_probabilities_one_valid = model_DTC.predict_proba(features_valid)[:, 1]\n",
    "\n",
    "auc_roc_DTC = roc_auc_score(target_valid, DTC_probabilities_one_valid)\n",
    "\n",
    "auc_roc_DTC"
   ]
  },
  {
   "cell_type": "markdown",
   "metadata": {},
   "source": [
    "Вывод Видим низкое значение F1, следовательно низкое качество модели, проблема в точности."
   ]
  },
  {
   "cell_type": "markdown",
   "metadata": {},
   "source": [
    "# Логистическая регрессия"
   ]
  },
  {
   "cell_type": "code",
   "execution_count": 57,
   "metadata": {},
   "outputs": [
    {
     "data": {
      "text/plain": [
       "array([[1506,   76],\n",
       "       [ 319,   99]])"
      ]
     },
     "execution_count": 57,
     "metadata": {},
     "output_type": "execute_result"
    }
   ],
   "source": [
    "#Матрица ошибок для логистической регрессии\n",
    "model_LgR = LogisticRegression(solver = 'liblinear')\n",
    "model_LgR.fit(features_train, target_train)\n",
    "LgR_prediction = model_LgR.predict(features_valid)\n",
    "confusion_matrix(target_valid, LgR_prediction)"
   ]
  },
  {
   "cell_type": "code",
   "execution_count": 58,
   "metadata": {},
   "outputs": [
    {
     "name": "stdout",
     "output_type": "stream",
     "text": [
      "Полнота 0.23684210526315788\n",
      "Точность 0.5657142857142857\n",
      "F1-мера 0.33389544688026984\n"
     ]
    }
   ],
   "source": [
    "rec_prec_f1(target_valid, LgR_prediction)"
   ]
  },
  {
   "cell_type": "code",
   "execution_count": 59,
   "metadata": {},
   "outputs": [
    {
     "data": {
      "text/plain": [
       "0.7586317967081824"
      ]
     },
     "execution_count": 59,
     "metadata": {},
     "output_type": "execute_result"
    }
   ],
   "source": [
    "#Для логистической регрессии расчитаю метрику AUC-ROC\n",
    "LgR_probabilities_one_valid = model_LgR.predict_proba(features_valid)[:, 1]\n",
    "\n",
    "auc_roc_LgR = roc_auc_score(target_valid, LgR_probabilities_one_valid)\n",
    "\n",
    "auc_roc_LgR"
   ]
  },
  {
   "cell_type": "code",
   "execution_count": 60,
   "metadata": {},
   "outputs": [],
   "source": [
    "def plot_roc_curve(fper, tper):\n",
    "    plt.plot(fper, tper, color='blue', label='ROC')\n",
    "    plt.plot([0, 1], [0, 1], color='red', linestyle='--')\n",
    "    plt.xlim([0.0, 1.0])\n",
    "    plt.ylim([0.0, 1.0])\n",
    "    plt.xlabel('ложно-положительный показатель')\n",
    "    plt.ylabel('Истинно-положительный показатель')\n",
    "    plt.title('ROC-кривая')\n",
    "    plt.legend()\n",
    "    plt.show()"
   ]
  },
  {
   "cell_type": "code",
   "execution_count": 61,
   "metadata": {},
   "outputs": [
    {
     "data": {
      "image/png": "[encoded data removed]",
      "text/plain": [
       "<Figure size 432x288 with 1 Axes>"
      ]
     },
     "metadata": {
      "needs_background": "light"
     },
     "output_type": "display_data"
    }
   ],
   "source": [
    "fper, tper, thresholds = roc_curve(target_valid, LgR_probabilities_one_valid)\n",
    "plot_roc_curve(fper, tper)"
   ]
  },
  {
   "cell_type": "code",
   "execution_count": 62,
   "metadata": {},
   "outputs": [
    {
     "name": "stdout",
     "output_type": "stream",
     "text": [
      "Score 0.701\n",
      "AUC-ROC 0.7635798063138539\n"
     ]
    },
    {
     "data": {
      "image/png": "[encoded data removed]",
      "text/plain": [
       "<Figure size 432x288 with 1 Axes>"
      ]
     },
     "metadata": {
      "needs_background": "light"
     },
     "output_type": "display_data"
    }
   ],
   "source": [
    "#Попробуем обучить логистическую регресию сбалансировав классы\n",
    "model_LgR = LogisticRegression(solver = 'liblinear', class_weight='balanced')\n",
    "model_LgR.fit(features_train, target_train)\n",
    "LgR_probabilities_one_valid_class_weight = model_LgR.predict_proba(features_valid)[:, 1]\n",
    "print(\"Score\", model_LgR.score(features_valid, target_valid))\n",
    "print(\"AUC-ROC\", roc_auc_score(target_valid, LgR_probabilities_one_valid_class_weight))\n",
    "\n",
    "fper, tper, thresholds = roc_curve(target_valid, LgR_probabilities_one_valid_class_weight) \n",
    "plot_roc_curve(fper, tper)"
   ]
  },
  {
   "cell_type": "markdown",
   "metadata": {},
   "source": [
    "Вывод нет заметных улучшений. Высокая точность модели объясняется высокой долей негативных ответов в валидационной выборке.\n",
    "\n"
   ]
  },
  {
   "cell_type": "markdown",
   "metadata": {},
   "source": [
    "<div class=\"alert alert-block alert-success\">\n",
    "<b>✔️ Успех:</b>\n",
    "\n",
    "Модели обучены корректно 👍\n",
    "</div>"
   ]
  },
  {
   "cell_type": "markdown",
   "metadata": {},
   "source": [
    "## Борьба с дисбалансом"
   ]
  },
  {
   "cell_type": "markdown",
   "metadata": {},
   "source": [
    "Как мы выяснили ранее в нашей выборке отрицательны ответов ≈80% , положитительных ≈ 20%. Нам необходмо увеличить количество положительных ответов в 4 раза для достижения баланса, либо уменьшить.\n",
    "\n",
    "Разделим обучающую выборку на отрицательные и положительные объекты;\n",
    "Скопируем несколько раз положительные объекты;\n",
    "С учётом полученных данных создам новую обучающую выборку;\n",
    "Перемешаю данные идущие друг за другом, одинаковые вопросы не помогут обучению.\n",
    "Обучу новые модели"
   ]
  },
  {
   "cell_type": "code",
   "execution_count": 63,
   "metadata": {},
   "outputs": [],
   "source": [
    "#Создам функцию для увеличения представленной класса в выборке \n",
    "def upsample(features, target, repeat, upsampled_сlass):\n",
    "    \"\"\"Функция принимаем значение признаков (features[]), целевого признака (target[]), repeat(int / float),\n",
    "    класс который будет увеличен (upsampled_сlass (0 or 1))\"\"\"\n",
    "    features_zeros = features[target == 0]\n",
    "    features_ones = features[target == 1]\n",
    "    target_zeros = target[target == 0]\n",
    "    target_ones = target[target == 1]\n",
    "    \n",
    "    if upsampled_сlass == 0:\n",
    "        features_upsampled = pd.concat([features_zeros]* repeat + [features_ones] )\n",
    "        target_upsampled = pd.concat([target_zeros]* repeat + [target_ones] )\n",
    "        features_upsampled, target_upsampled = shuffle(\n",
    "        features_upsampled, target_upsampled, random_state=12345)\n",
    "        \n",
    "    elif upsampled_сlass == 1:\n",
    "        features_upsampled = pd.concat([features_zeros] + [features_ones] * repeat)\n",
    "        target_upsampled = pd.concat([target_zeros] + [target_ones] * repeat)\n",
    "        features_upsampled, target_upsampled = shuffle(\n",
    "        features_upsampled, target_upsampled, random_state=12345)\n",
    "    else:\n",
    "        features_upsampled = 0\n",
    "        target_upsampled = 0  \n",
    "        \n",
    "        \n",
    "       \n",
    "    return features_upsampled, target_upsampled"
   ]
  },
  {
   "cell_type": "code",
   "execution_count": 64,
   "metadata": {},
   "outputs": [],
   "source": [
    "#Создам функцию для уменьшения представленной класса в выборке \n",
    "def downsample(features, target, fraction):\n",
    "    features_zeros = features[target == 0]\n",
    "    features_ones = features[target == 1]\n",
    "    target_zeros = target[target == 0]\n",
    "    target_ones = target[target == 1]\n",
    "\n",
    "    features_downsampled = pd.concat(\n",
    "        [features_zeros.sample(frac=fraction, random_state=12345)] + [features_ones])\n",
    "    target_downsampled = pd.concat(\n",
    "        [target_zeros.sample(frac=fraction, random_state=12345)] + [target_ones])\n",
    "    \n",
    "    features_downsampled, target_downsampled = shuffle(\n",
    "        features_downsampled, target_downsampled, random_state=12345)\n",
    "    \n",
    "    return features_downsampled, target_downsampled"
   ]
  },
  {
   "cell_type": "code",
   "execution_count": 65,
   "metadata": {},
   "outputs": [],
   "source": [
    "features_downsampled_train, target_downsampled_train = downsample(features_train, target_train, fraction=0.25)"
   ]
  },
  {
   "cell_type": "markdown",
   "metadata": {},
   "source": [
    "<div class=\"alert alert-block alert-success\">\n",
    "<b>✔️ Успех:</b>\n",
    "\n",
    "Уменьшение выборки выполнено верно - классы сбалансированы 👍 \n",
    "</div>"
   ]
  },
  {
   "cell_type": "code",
   "execution_count": 66,
   "metadata": {},
   "outputs": [
    {
     "name": "stdout",
     "output_type": "stream",
     "text": [
      "0    0.941407\n",
      "1    0.058593\n",
      "Name: exited, dtype: float64\n",
      "(20412,)\n"
     ]
    }
   ],
   "source": [
    "#Протестирую функцию (верное значение)\n",
    "features_train_upsampled, target_train_upsampled = upsample(features_train, target_train, 4, 0)\n",
    "print(target_train_upsampled.value_counts(normalize = 1))\n",
    "print(target_train_upsampled.shape)"
   ]
  },
  {
   "cell_type": "code",
   "execution_count": 67,
   "metadata": {},
   "outputs": [
    {
     "data": {
      "text/plain": [
       "0"
      ]
     },
     "execution_count": 67,
     "metadata": {},
     "output_type": "execute_result"
    }
   ],
   "source": [
    "#Протестирую функцию (верное значение)\n",
    "features_train_upsampled, target_train_upsampled = upsample(features_train, target_train, 4, 3)\n",
    "features_train_upsampled"
   ]
  },
  {
   "cell_type": "code",
   "execution_count": 68,
   "metadata": {},
   "outputs": [
    {
     "name": "stdout",
     "output_type": "stream",
     "text": [
      "0    0.501043\n",
      "1    0.498957\n",
      "Name: exited, dtype: float64\n",
      "(9588,)\n"
     ]
    }
   ],
   "source": [
    "#Применил функцию upsample \n",
    "#увеличил количество положительных ответов в 4 раза\n",
    "features_train_upsampled, target_train_upsampled = upsample(features_train, target_train, 4, 1)\n",
    "print(target_train_upsampled.value_counts(normalize = 1))\n",
    "print(target_train_upsampled.shape)"
   ]
  },
  {
   "cell_type": "markdown",
   "metadata": {},
   "source": [
    "<div class=\"alert alert-block alert-success\">\n",
    "<b>✔️ Успех:</b>\n",
    "\n",
    "Увеличение выборки тоже выполнено верно 👍 \n",
    "</div>"
   ]
  },
  {
   "cell_type": "code",
   "execution_count": 69,
   "metadata": {},
   "outputs": [
    {
     "name": "stdout",
     "output_type": "stream",
     "text": [
      "1    1196\n",
      "0     961\n",
      "Name: exited, dtype: int64\n",
      "(2157,)\n"
     ]
    }
   ],
   "source": [
    "#Применил функцию downsample\n",
    "#Уменьшил кол-в пооложительных ответов в 4 раза\n",
    "#Протестируем функцию (верное значение)\n",
    "features_downsampled_train, target_downsampled_train = downsample(features_train, target_train, 0.2)\n",
    "print(target_downsampled_train.value_counts(normalize = 0))\n",
    "print(target_downsampled_train.shape)"
   ]
  },
  {
   "cell_type": "code",
   "execution_count": 70,
   "metadata": {},
   "outputs": [
    {
     "data": {
      "image/png": "[encoded data removed]",
      "text/plain": [
       "<Figure size 360x360 with 1 Axes>"
      ]
     },
     "metadata": {
      "needs_background": "light"
     },
     "output_type": "display_data"
    }
   ],
   "source": [
    "#upsample показал лучший результат с ним и буду работать\n",
    "target_train_upsampled.plot(kind ='hist', bins=3, figsize=(5,5));"
   ]
  },
  {
   "cell_type": "markdown",
   "metadata": {},
   "source": [
    "# Обучение моделей на сбалансированной выборке"
   ]
  },
  {
   "cell_type": "code",
   "execution_count": 71,
   "metadata": {},
   "outputs": [
    {
     "name": "stdout",
     "output_type": "stream",
     "text": [
      "Точность:дерево решений 0.788 случайный лес  0.857 логистческая регрессия 0.8025\n"
     ]
    }
   ],
   "source": [
    "#Точность моделей на выборке с дисбалансом\n",
    "all_models_accuracy(features_train, target_train, features_valid, target_valid)"
   ]
  },
  {
   "cell_type": "code",
   "execution_count": 72,
   "metadata": {},
   "outputs": [
    {
     "name": "stdout",
     "output_type": "stream",
     "text": [
      "Точность:дерево решений 0.7805 случайный лес  0.813 логистческая регрессия 0.701\n"
     ]
    }
   ],
   "source": [
    "#Точность моделей на сбалансированной выборке\n",
    "all_models_accuracy(features_train_upsampled, target_train_upsampled, features_valid, target_valid)"
   ]
  },
  {
   "cell_type": "markdown",
   "metadata": {},
   "source": [
    "Вывод Точность сильно не изменилась. Проверим качество ответов."
   ]
  },
  {
   "cell_type": "code",
   "execution_count": 73,
   "metadata": {},
   "outputs": [
    {
     "name": "stdout",
     "output_type": "stream",
     "text": [
      "Полнота 0.45454545454545453\n",
      "Точность 0.47381546134663344\n",
      "F1-мера 0.46398046398046394\n"
     ]
    }
   ],
   "source": [
    "#Дерево решений\n",
    "model_DTC_upsampled = DecisionTreeClassifier(random_state=1515)\n",
    "model_DTC_upsampled.fit(features_train_upsampled, target_train_upsampled)\n",
    "DTC_prediction_upsampled = model_DTC_upsampled.predict(features_valid)\n",
    "rec_prec_f1(target_valid, DTC_prediction_upsampled)"
   ]
  },
  {
   "cell_type": "code",
   "execution_count": 74,
   "metadata": {},
   "outputs": [
    {
     "data": {
      "text/plain": [
       "0.6605849902310079"
      ]
     },
     "execution_count": 74,
     "metadata": {},
     "output_type": "execute_result"
    }
   ],
   "source": [
    "#Расчитаю auc_roc для DTC на сбалансированной выборке\n",
    "DTC_upsampled_valid = model_DTC_upsampled.predict_proba(features_valid)[:, 1]\n",
    "\n",
    "auc_roc_DTC = roc_auc_score(target_valid, DTC_upsampled_valid)\n",
    "\n",
    "auc_roc_DTC"
   ]
  },
  {
   "cell_type": "code",
   "execution_count": 75,
   "metadata": {},
   "outputs": [
    {
     "name": "stdout",
     "output_type": "stream",
     "text": [
      "Полнота 0.722488038277512\n",
      "Точность 0.5392857142857143\n",
      "F1-мера 0.6175869120654396\n"
     ]
    }
   ],
   "source": [
    "#Лес решений\n",
    "model_RFC_upsampled = RandomForestClassifier(max_depth=7, n_estimators=43, min_samples_leaf=3, random_state=1515)\n",
    "model_RFC_upsampled.fit(features_train_upsampled, target_train_upsampled)\n",
    "RFC_prediction_upsampled = model_RFC_upsampled.predict(features_valid)\n",
    "rec_prec_f1(target_valid, RFC_prediction_upsampled)"
   ]
  },
  {
   "cell_type": "code",
   "execution_count": 76,
   "metadata": {},
   "outputs": [
    {
     "data": {
      "text/plain": [
       "0.8527604207622839"
      ]
     },
     "execution_count": 76,
     "metadata": {},
     "output_type": "execute_result"
    }
   ],
   "source": [
    "#Расчитаю auc_roc для RFC на сбалансированной выборке\n",
    "RFC_upsampled_valid = model_RFC_upsampled.predict_proba(features_valid)[:, 1]\n",
    "auc_roc_RFC = roc_auc_score(target_valid, RFC_upsampled_valid)\n",
    "auc_roc_RFC"
   ]
  },
  {
   "cell_type": "code",
   "execution_count": 77,
   "metadata": {},
   "outputs": [
    {
     "name": "stdout",
     "output_type": "stream",
     "text": [
      "Полнота 0.6842105263157895\n",
      "Точность 0.3803191489361702\n",
      "F1-мера 0.4888888888888888\n"
     ]
    }
   ],
   "source": [
    "#Логистическая регрессия\n",
    "model_LgR_upsampled = LogisticRegression(solver = 'liblinear', class_weight='balanced')\n",
    "model_LgR_upsampled.fit(features_train_upsampled, target_train_upsampled)\n",
    "LgR_prediction_upsampled = model_LgR_upsampled.predict(features_valid)\n",
    "rec_prec_f1(target_valid, LgR_prediction_upsampled)"
   ]
  },
  {
   "cell_type": "code",
   "execution_count": 78,
   "metadata": {},
   "outputs": [
    {
     "data": {
      "text/plain": [
       "0.7634815115020053"
      ]
     },
     "execution_count": 78,
     "metadata": {},
     "output_type": "execute_result"
    }
   ],
   "source": [
    "#Расчитаю auc_roc для LgR на сбалансированной выборке\n",
    "LgR_upsampled_valid = model_LgR_upsampled.predict_proba(features_valid)[:, 1]\n",
    "\n",
    "auc_roc_LgR = roc_auc_score(target_valid, LgR_upsampled_valid)\n",
    "\n",
    "auc_roc_LgR"
   ]
  },
  {
   "cell_type": "markdown",
   "metadata": {},
   "source": [
    "Вывод\n",
    "\n",
    "\n",
    "Лучший результаты показывает алгоритм лес решений (RandomForestClassifier). На валидационной выборке RandomForestClassifier уже показывает резульаты F1 меры = 0.61, что выше  целевого значения."
   ]
  },
  {
   "cell_type": "markdown",
   "metadata": {},
   "source": [
    "<div class=\"alert alert-block alert-success\">\n",
    "<b>✔️ Успех:</b>\n",
    "\n",
    "По модельной части замечаний нет!) Все этапы выполнены отлично 👍\n",
    "</div>"
   ]
  },
  {
   "cell_type": "markdown",
   "metadata": {},
   "source": [
    "## Тестирование модели"
   ]
  },
  {
   "cell_type": "code",
   "execution_count": 79,
   "metadata": {},
   "outputs": [
    {
     "data": {
      "text/plain": [
       "RandomForestClassifier(class_weight='balanced', max_depth=7, random_state=54321)"
      ]
     },
     "execution_count": 79,
     "metadata": {},
     "output_type": "execute_result"
    }
   ],
   "source": [
    "#Обучим финальную модель\n",
    "model_RFC_final = RandomForestClassifier(\n",
    "    bootstrap = True, class_weight = 'balanced', max_depth= 7,  n_estimators = 100, random_state=54321)\n",
    "model_RFC_final.fit(features_train_upsampled, target_train_upsampled)"
   ]
  },
  {
   "cell_type": "code",
   "execution_count": 80,
   "metadata": {},
   "outputs": [
    {
     "name": "stdout",
     "output_type": "stream",
     "text": [
      "Полнота 0.7092198581560284\n",
      "Точность 0.5263157894736842\n",
      "F1-мера 0.6042296072507553\n"
     ]
    }
   ],
   "source": [
    "model_RFC_final_prediction = model_RFC_final.predict(features_test)\n",
    "rec_prec_f1(target_test, model_RFC_final_prediction)"
   ]
  },
  {
   "cell_type": "code",
   "execution_count": 81,
   "metadata": {},
   "outputs": [
    {
     "data": {
      "text/plain": [
       "0.8547246095243235"
      ]
     },
     "execution_count": 81,
     "metadata": {},
     "output_type": "execute_result"
    }
   ],
   "source": [
    "#Расчитаем auc_roc для RFC на тестовой выборке\n",
    "model_RFC_final_valid = model_RFC_final.predict_proba(features_test)[:, 1]\n",
    "\n",
    "auc_roc_RFC = roc_auc_score(target_test, model_RFC_final_valid)\n",
    "\n",
    "auc_roc_RFC"
   ]
  },
  {
   "cell_type": "code",
   "execution_count": 82,
   "metadata": {},
   "outputs": [
    {
     "data": {
      "text/plain": [
       "0    2000\n",
       "dtype: int64"
      ]
     },
     "execution_count": 82,
     "metadata": {},
     "output_type": "execute_result"
    }
   ],
   "source": [
    "#Создаем константную модель\n",
    "target_predict_constant = pd.Series([0]*len(target_test))\n",
    "target_predict_constant.value_counts()"
   ]
  },
  {
   "cell_type": "code",
   "execution_count": 83,
   "metadata": {},
   "outputs": [
    {
     "name": "stdout",
     "output_type": "stream",
     "text": [
      "accuracy_score константой модели: 0.791\n",
      "accuracy_score финальной модели: 0.8035\n",
      "AUC-ROC константой модели: 0.5\n",
      "AUC-ROC финальной модели: 0.8547246095243235\n"
     ]
    }
   ],
   "source": [
    "#Сравню показатель точности (accuracy_score) константной модели и финальной\n",
    "print('accuracy_score константой модели:', accuracy_score(target_valid, target_predict_constant))\n",
    "print('accuracy_score финальной модели:', accuracy_score(target_test, model_RFC_final_prediction))\n",
    "#Дополнительно сравним AUC-ROC — единственный параметр подающийся сравнению, потому что константная подель содержит только негативные ответы\n",
    "print('AUC-ROC константой модели:', roc_auc_score(target_valid, target_predict_constant))\n",
    "print('AUC-ROC финальной модели:', roc_auc_score(target_test, model_RFC_final_valid))"
   ]
  },
  {
   "cell_type": "markdown",
   "metadata": {},
   "source": [
    "Финальная модель показывает результаты лучше, чем константная модель — модель можно считать адекватной."
   ]
  },
  {
   "cell_type": "markdown",
   "metadata": {},
   "source": [
    "<div class=\"alert alert-block alert-success\">\n",
    "<b>✔️ Успех:</b>\n",
    "\n",
    "Отличный результат 👍 \n",
    "</div>"
   ]
  },
  {
   "cell_type": "markdown",
   "metadata": {},
   "source": [
    "# Выводы\n",
    "В первоначальные данных наблюдался значительный дисбаланс (80% ответов целевого признака были негативными и только 20% позитивными), из-за чего обученная на этих данных модель не проходила проверку на адекватность. Все модели не первоначальных данных характеризовались высокой степенью ошибок и низким качеством  величины (F1) — модели показывали низкие результаты точности и полноты.\n",
    "\n",
    "Я устранил дисбаланс классов в обучающей выборки методом upsampling — увеличил количество значений позитивного класса в 4 раза. Так я достигл баланса классов в обучеющей выборке\n",
    "\n",
    "Разобрал несколько вариантов борьбы с дисбалансом upsampling и downsampling\n",
    "\n",
    "На новых данных все модели показали результат выше, чем на несбалансированной выборке. Лучшие показатели были у модели леса решений.\n",
    "\n",
    "Финальная модель прошла проверку на адекватность в сравнении с контантной моделью:\n",
    "\n",
    "accuracy_score константой модели: 0.791\n",
    "accuracy_score финальной модели: 0.8035\n",
    "AUC-ROC константой модели: 0.5\n",
    "AUC-ROC финальной модели: 0.8547246095243235"
   ]
  },
  {
   "cell_type": "markdown",
   "metadata": {},
   "source": [
    "<div class=\"alert alert-block alert-success\">\n",
    "<b>✔️ Успех:</b>\n",
    "\n",
    "Вывод соответствует исследованию 👍\n",
    "</div>"
   ]
  },
  {
   "cell_type": "markdown",
   "metadata": {},
   "source": [
    "# <font color='orange'>Общее впечатление</font>\n",
    "* Этот проект выполнен очень хорошо\n",
    "* Видно, что приложено много усилий\n",
    "* Молодец, что структурируешь ноутбук, приятно проверять такие работы\n",
    "* У тебя чистый и лаконичный код\n",
    "* Мне было интересно читать твои промежуточные выводы\n",
    "* Твой уровень подачи материала находится на высоком уровне\n",
    "* Молодец, отличная работа!\n",
    "* Надеюсь, ревью было полезным\n",
    "* Удачи в дальнейшем обучении 👋\n"
   ]
  },
  {
   "cell_type": "code",
   "execution_count": null,
   "metadata": {},
   "outputs": [],
   "source": []
  }
 ],
 "metadata": {
  "ExecuteTimeLog": [
   {
    "duration": 1658,
    "start_time": "2023-01-27T20:30:27.846Z"
   },
   {
    "duration": 5,
    "start_time": "2023-01-27T20:30:29.735Z"
   },
   {
    "duration": 144,
    "start_time": "2023-01-27T20:30:45.124Z"
   },
   {
    "duration": 189,
    "start_time": "2023-01-27T20:52:38.671Z"
   },
   {
    "duration": 18,
    "start_time": "2023-01-27T20:52:46.004Z"
   },
   {
    "duration": 91,
    "start_time": "2023-01-27T20:54:25.674Z"
   },
   {
    "duration": 78,
    "start_time": "2023-01-27T20:54:37.822Z"
   },
   {
    "duration": 15,
    "start_time": "2023-01-27T20:54:40.115Z"
   },
   {
    "duration": 4,
    "start_time": "2023-01-27T20:55:39.715Z"
   },
   {
    "duration": 11,
    "start_time": "2023-01-27T20:55:43.196Z"
   },
   {
    "duration": 2103,
    "start_time": "2023-01-27T20:56:09.070Z"
   },
   {
    "duration": 1658,
    "start_time": "2023-01-27T21:02:55.601Z"
   },
   {
    "duration": 5,
    "start_time": "2023-01-27T21:03:22.460Z"
   },
   {
    "duration": 186,
    "start_time": "2023-01-27T21:03:23.117Z"
   },
   {
    "duration": 18,
    "start_time": "2023-01-27T21:03:24.838Z"
   },
   {
    "duration": 112,
    "start_time": "2023-01-27T21:03:28.773Z"
   },
   {
    "duration": 5,
    "start_time": "2023-01-27T21:03:34.596Z"
   },
   {
    "duration": 2195,
    "start_time": "2023-01-27T21:03:37.624Z"
   },
   {
    "duration": 23,
    "start_time": "2023-01-27T21:03:52.231Z"
   },
   {
    "duration": 6,
    "start_time": "2023-01-27T21:04:05.244Z"
   },
   {
    "duration": 23,
    "start_time": "2023-01-27T21:23:04.170Z"
   },
   {
    "duration": 5,
    "start_time": "2023-01-27T21:23:36.087Z"
   },
   {
    "duration": 22,
    "start_time": "2023-01-27T21:23:57.739Z"
   },
   {
    "duration": 15,
    "start_time": "2023-01-27T21:24:22.734Z"
   },
   {
    "duration": 10,
    "start_time": "2023-01-27T21:24:33.421Z"
   },
   {
    "duration": 20,
    "start_time": "2023-01-27T21:25:34.713Z"
   },
   {
    "duration": 6,
    "start_time": "2023-01-27T21:25:42.665Z"
   },
   {
    "duration": 6,
    "start_time": "2023-01-27T21:26:05.816Z"
   },
   {
    "duration": 9,
    "start_time": "2023-01-27T21:26:16.670Z"
   },
   {
    "duration": 6,
    "start_time": "2023-01-27T21:28:45.209Z"
   },
   {
    "duration": 6,
    "start_time": "2023-01-27T21:28:46.975Z"
   },
   {
    "duration": 12,
    "start_time": "2023-01-27T21:30:00.707Z"
   },
   {
    "duration": 2,
    "start_time": "2023-01-27T21:31:34.675Z"
   },
   {
    "duration": 9,
    "start_time": "2023-01-27T21:31:35.175Z"
   },
   {
    "duration": 27,
    "start_time": "2023-01-27T21:31:51.506Z"
   },
   {
    "duration": 21,
    "start_time": "2023-01-27T21:32:14.960Z"
   },
   {
    "duration": 20,
    "start_time": "2023-01-27T21:32:27.554Z"
   },
   {
    "duration": 14,
    "start_time": "2023-01-27T21:32:39.717Z"
   },
   {
    "duration": 14,
    "start_time": "2023-01-27T21:32:46.772Z"
   },
   {
    "duration": 14,
    "start_time": "2023-01-27T21:32:48.159Z"
   },
   {
    "duration": 11,
    "start_time": "2023-01-27T21:32:50.164Z"
   },
   {
    "duration": 5,
    "start_time": "2023-01-27T21:33:21.917Z"
   },
   {
    "duration": 245,
    "start_time": "2023-01-27T21:33:30.695Z"
   },
   {
    "duration": 25,
    "start_time": "2023-01-27T21:33:54.585Z"
   },
   {
    "duration": 3,
    "start_time": "2023-01-27T21:34:05.168Z"
   },
   {
    "duration": 6,
    "start_time": "2023-01-27T21:34:08.070Z"
   },
   {
    "duration": 82,
    "start_time": "2023-01-27T21:34:27.250Z"
   },
   {
    "duration": 179,
    "start_time": "2023-01-27T21:34:38.026Z"
   },
   {
    "duration": 4,
    "start_time": "2023-01-27T21:35:50.713Z"
   },
   {
    "duration": 5,
    "start_time": "2023-01-27T21:36:14.058Z"
   },
   {
    "duration": 5,
    "start_time": "2023-01-27T21:36:39.365Z"
   },
   {
    "duration": 192,
    "start_time": "2023-01-27T21:36:55.972Z"
   },
   {
    "duration": 135,
    "start_time": "2023-01-27T21:37:02.024Z"
   },
   {
    "duration": 739,
    "start_time": "2023-01-27T21:37:19.307Z"
   },
   {
    "duration": 24,
    "start_time": "2023-01-27T21:37:42.992Z"
   },
   {
    "duration": 4,
    "start_time": "2023-01-27T21:38:05.507Z"
   },
   {
    "duration": 5,
    "start_time": "2023-01-27T21:38:10.120Z"
   },
   {
    "duration": 61,
    "start_time": "2023-01-27T21:38:11.047Z"
   },
   {
    "duration": 18,
    "start_time": "2023-01-27T21:38:11.843Z"
   },
   {
    "duration": 4,
    "start_time": "2023-01-27T21:38:13.127Z"
   },
   {
    "duration": 2205,
    "start_time": "2023-01-27T21:38:13.624Z"
   },
   {
    "duration": 19,
    "start_time": "2023-01-27T21:38:15.839Z"
   },
   {
    "duration": 5,
    "start_time": "2023-01-27T21:38:15.860Z"
   },
   {
    "duration": 39,
    "start_time": "2023-01-27T21:38:15.868Z"
   },
   {
    "duration": 13,
    "start_time": "2023-01-27T21:38:15.910Z"
   },
   {
    "duration": 13,
    "start_time": "2023-01-27T21:38:15.939Z"
   },
   {
    "duration": 6,
    "start_time": "2023-01-27T21:38:15.954Z"
   },
   {
    "duration": 14,
    "start_time": "2023-01-27T21:38:15.962Z"
   },
   {
    "duration": 6,
    "start_time": "2023-01-27T21:38:16.033Z"
   },
   {
    "duration": 13,
    "start_time": "2023-01-27T21:38:16.383Z"
   },
   {
    "duration": 3,
    "start_time": "2023-01-27T21:38:16.578Z"
   },
   {
    "duration": 9,
    "start_time": "2023-01-27T21:38:16.772Z"
   },
   {
    "duration": 21,
    "start_time": "2023-01-27T21:38:17.263Z"
   },
   {
    "duration": 11,
    "start_time": "2023-01-27T21:38:17.693Z"
   },
   {
    "duration": 16,
    "start_time": "2023-01-27T21:38:18.116Z"
   },
   {
    "duration": 7,
    "start_time": "2023-01-27T21:38:18.563Z"
   },
   {
    "duration": 322,
    "start_time": "2023-01-27T21:38:19.223Z"
   },
   {
    "duration": 7,
    "start_time": "2023-01-27T21:38:20.417Z"
   },
   {
    "duration": 150,
    "start_time": "2023-01-27T21:38:21.249Z"
   },
   {
    "duration": 4,
    "start_time": "2023-01-27T21:38:24.242Z"
   },
   {
    "duration": 5,
    "start_time": "2023-01-27T21:38:25.395Z"
   },
   {
    "duration": 921,
    "start_time": "2023-01-27T21:39:08.119Z"
   },
   {
    "duration": 5,
    "start_time": "2023-01-27T21:39:11.116Z"
   },
   {
    "duration": 851,
    "start_time": "2023-01-27T21:39:15.391Z"
   },
   {
    "duration": 754,
    "start_time": "2023-01-27T21:43:36.709Z"
   },
   {
    "duration": 5,
    "start_time": "2023-01-27T21:44:59.488Z"
   },
   {
    "duration": 14,
    "start_time": "2023-01-27T21:45:12.018Z"
   },
   {
    "duration": 5,
    "start_time": "2023-01-27T21:45:22.466Z"
   },
   {
    "duration": 720,
    "start_time": "2023-01-27T21:45:31.034Z"
   },
   {
    "duration": 14,
    "start_time": "2023-01-27T21:46:23.313Z"
   },
   {
    "duration": 6,
    "start_time": "2023-01-27T21:47:02.319Z"
   },
   {
    "duration": 16,
    "start_time": "2023-01-27T21:47:06.029Z"
   },
   {
    "duration": 15,
    "start_time": "2023-01-27T21:47:11.710Z"
   },
   {
    "duration": 734,
    "start_time": "2023-01-27T21:47:42.533Z"
   },
   {
    "duration": 16,
    "start_time": "2023-01-27T21:47:43.268Z"
   },
   {
    "duration": 4,
    "start_time": "2023-01-27T21:48:20.766Z"
   },
   {
    "duration": 42,
    "start_time": "2023-01-27T21:48:22.715Z"
   },
   {
    "duration": 14,
    "start_time": "2023-01-27T21:48:23.553Z"
   },
   {
    "duration": 4,
    "start_time": "2023-01-27T21:48:24.207Z"
   },
   {
    "duration": 2065,
    "start_time": "2023-01-27T21:48:24.377Z"
   },
   {
    "duration": 15,
    "start_time": "2023-01-27T21:48:26.445Z"
   },
   {
    "duration": 5,
    "start_time": "2023-01-27T21:48:26.462Z"
   },
   {
    "duration": 28,
    "start_time": "2023-01-27T21:48:26.469Z"
   },
   {
    "duration": 22,
    "start_time": "2023-01-27T21:48:26.499Z"
   },
   {
    "duration": 23,
    "start_time": "2023-01-27T21:48:26.523Z"
   },
   {
    "duration": 20,
    "start_time": "2023-01-27T21:48:26.548Z"
   },
   {
    "duration": 27,
    "start_time": "2023-01-27T21:48:26.571Z"
   },
   {
    "duration": 5,
    "start_time": "2023-01-27T21:48:26.696Z"
   },
   {
    "duration": 12,
    "start_time": "2023-01-27T21:48:27.018Z"
   },
   {
    "duration": 3,
    "start_time": "2023-01-27T21:48:27.194Z"
   },
   {
    "duration": 9,
    "start_time": "2023-01-27T21:48:27.369Z"
   },
   {
    "duration": 12,
    "start_time": "2023-01-27T21:48:27.539Z"
   },
   {
    "duration": 10,
    "start_time": "2023-01-27T21:48:27.727Z"
   },
   {
    "duration": 10,
    "start_time": "2023-01-27T21:48:28.009Z"
   },
   {
    "duration": 4,
    "start_time": "2023-01-27T21:48:28.204Z"
   },
   {
    "duration": 309,
    "start_time": "2023-01-27T21:48:28.429Z"
   },
   {
    "duration": 97,
    "start_time": "2023-01-27T21:48:28.742Z"
   },
   {
    "duration": 132,
    "start_time": "2023-01-27T21:48:29.186Z"
   },
   {
    "duration": 4,
    "start_time": "2023-01-27T21:48:30.084Z"
   },
   {
    "duration": 5,
    "start_time": "2023-01-27T21:48:30.490Z"
   },
   {
    "duration": 726,
    "start_time": "2023-01-27T21:48:30.927Z"
   },
   {
    "duration": 758,
    "start_time": "2023-01-27T21:48:31.932Z"
   },
   {
    "duration": 9,
    "start_time": "2023-01-27T21:48:32.692Z"
   },
   {
    "duration": 63,
    "start_time": "2023-01-27T21:49:35.634Z"
   },
   {
    "duration": 57,
    "start_time": "2023-01-27T21:50:12.064Z"
   },
   {
    "duration": 39,
    "start_time": "2023-01-27T21:50:29.930Z"
   },
   {
    "duration": 9,
    "start_time": "2023-01-27T21:51:01.124Z"
   },
   {
    "duration": 1778,
    "start_time": "2023-01-28T06:46:46.106Z"
   },
   {
    "duration": 83,
    "start_time": "2023-01-28T06:46:48.783Z"
   },
   {
    "duration": 19,
    "start_time": "2023-01-28T06:46:49.843Z"
   },
   {
    "duration": 4,
    "start_time": "2023-01-28T06:46:50.000Z"
   },
   {
    "duration": 2221,
    "start_time": "2023-01-28T06:46:50.157Z"
   },
   {
    "duration": 14,
    "start_time": "2023-01-28T06:46:52.381Z"
   },
   {
    "duration": 8,
    "start_time": "2023-01-28T06:46:52.398Z"
   },
   {
    "duration": 16,
    "start_time": "2023-01-28T06:46:52.408Z"
   },
   {
    "duration": 4,
    "start_time": "2023-01-28T06:46:52.425Z"
   },
   {
    "duration": 14,
    "start_time": "2023-01-28T06:46:52.430Z"
   },
   {
    "duration": 9,
    "start_time": "2023-01-28T06:46:52.445Z"
   },
   {
    "duration": 7,
    "start_time": "2023-01-28T06:46:52.455Z"
   },
   {
    "duration": 6,
    "start_time": "2023-01-28T06:46:52.557Z"
   },
   {
    "duration": 11,
    "start_time": "2023-01-28T06:46:52.905Z"
   },
   {
    "duration": 3,
    "start_time": "2023-01-28T06:46:53.090Z"
   },
   {
    "duration": 10,
    "start_time": "2023-01-28T06:46:53.273Z"
   },
   {
    "duration": 14,
    "start_time": "2023-01-28T06:46:53.462Z"
   },
   {
    "duration": 11,
    "start_time": "2023-01-28T06:46:53.632Z"
   },
   {
    "duration": 10,
    "start_time": "2023-01-28T06:46:53.813Z"
   },
   {
    "duration": 5,
    "start_time": "2023-01-28T06:46:53.998Z"
   },
   {
    "duration": 277,
    "start_time": "2023-01-28T06:46:54.182Z"
   },
   {
    "duration": 99,
    "start_time": "2023-01-28T06:46:54.462Z"
   },
   {
    "duration": 225,
    "start_time": "2023-01-28T06:47:02.958Z"
   },
   {
    "duration": 3,
    "start_time": "2023-01-28T06:47:07.633Z"
   },
   {
    "duration": 5,
    "start_time": "2023-01-28T06:47:08.338Z"
   },
   {
    "duration": 775,
    "start_time": "2023-01-28T06:47:09.083Z"
   },
   {
    "duration": 774,
    "start_time": "2023-01-28T06:47:12.246Z"
   },
   {
    "duration": 13,
    "start_time": "2023-01-28T06:47:13.199Z"
   },
   {
    "duration": 65,
    "start_time": "2023-01-28T06:47:14.137Z"
   },
   {
    "duration": 36,
    "start_time": "2023-01-28T06:47:15.783Z"
   },
   {
    "duration": 8,
    "start_time": "2023-01-28T06:47:19.381Z"
   },
   {
    "duration": 8,
    "start_time": "2023-01-28T06:48:00.872Z"
   },
   {
    "duration": 57,
    "start_time": "2023-01-28T06:48:54.002Z"
   },
   {
    "duration": 11,
    "start_time": "2023-01-28T06:49:02.394Z"
   },
   {
    "duration": 11,
    "start_time": "2023-01-28T06:49:12.704Z"
   },
   {
    "duration": 4,
    "start_time": "2023-01-28T06:49:30.268Z"
   },
   {
    "duration": 4,
    "start_time": "2023-01-28T06:49:35.819Z"
   },
   {
    "duration": 153,
    "start_time": "2023-01-28T06:49:43.050Z"
   },
   {
    "duration": 125,
    "start_time": "2023-01-28T06:50:25.668Z"
   },
   {
    "duration": 4,
    "start_time": "2023-01-28T06:50:28.091Z"
   },
   {
    "duration": 144,
    "start_time": "2023-01-28T06:50:29.478Z"
   },
   {
    "duration": 5,
    "start_time": "2023-01-28T06:51:26.740Z"
   },
   {
    "duration": 131,
    "start_time": "2023-01-28T06:51:28.196Z"
   },
   {
    "duration": 454,
    "start_time": "2023-01-28T06:51:47.437Z"
   },
   {
    "duration": 4,
    "start_time": "2023-01-28T06:52:11.769Z"
   },
   {
    "duration": 141,
    "start_time": "2023-01-28T06:52:12.788Z"
   },
   {
    "duration": 435,
    "start_time": "2023-01-28T06:52:16.559Z"
   },
   {
    "duration": 4,
    "start_time": "2023-01-28T06:52:46.000Z"
   },
   {
    "duration": 156,
    "start_time": "2023-01-28T06:52:47.197Z"
   },
   {
    "duration": 424,
    "start_time": "2023-01-28T06:52:51.864Z"
   },
   {
    "duration": 5,
    "start_time": "2023-01-28T06:53:51.343Z"
   },
   {
    "duration": 6,
    "start_time": "2023-01-28T06:54:05.408Z"
   },
   {
    "duration": 5,
    "start_time": "2023-01-28T06:54:05.780Z"
   },
   {
    "duration": 11,
    "start_time": "2023-01-28T06:54:11.561Z"
   },
   {
    "duration": 15,
    "start_time": "2023-01-28T06:54:21.038Z"
   },
   {
    "duration": 10,
    "start_time": "2023-01-28T06:54:31.485Z"
   },
   {
    "duration": 17,
    "start_time": "2023-01-28T06:54:45.282Z"
   },
   {
    "duration": 13,
    "start_time": "2023-01-28T06:55:04.570Z"
   },
   {
    "duration": 97,
    "start_time": "2023-01-28T06:55:13.787Z"
   },
   {
    "duration": 118,
    "start_time": "2023-01-28T06:55:19.872Z"
   },
   {
    "duration": 329,
    "start_time": "2023-01-28T06:56:06.930Z"
   },
   {
    "duration": 352,
    "start_time": "2023-01-28T06:56:14.647Z"
   },
   {
    "duration": 50,
    "start_time": "2023-01-28T06:56:41.046Z"
   },
   {
    "duration": 8,
    "start_time": "2023-01-28T06:56:49.812Z"
   },
   {
    "duration": 332,
    "start_time": "2023-01-28T06:57:02.772Z"
   },
   {
    "duration": 24,
    "start_time": "2023-01-28T06:57:12.281Z"
   },
   {
    "duration": 97,
    "start_time": "2023-01-28T06:57:19.661Z"
   },
   {
    "duration": 19,
    "start_time": "2023-01-28T06:57:26.471Z"
   },
   {
    "duration": 283,
    "start_time": "2023-01-28T06:57:52.185Z"
   },
   {
    "duration": 38,
    "start_time": "2023-01-28T06:58:01.942Z"
   },
   {
    "duration": 37,
    "start_time": "2023-01-28T06:58:14.543Z"
   },
   {
    "duration": 12,
    "start_time": "2023-01-28T06:58:25.769Z"
   },
   {
    "duration": 10,
    "start_time": "2023-01-28T06:58:34.691Z"
   },
   {
    "duration": 5,
    "start_time": "2023-01-28T07:13:34.008Z"
   },
   {
    "duration": 805,
    "start_time": "2023-01-28T07:13:36.664Z"
   },
   {
    "duration": 702,
    "start_time": "2023-01-28T07:13:58.407Z"
   },
   {
    "duration": 11,
    "start_time": "2023-01-28T07:14:00.553Z"
   },
   {
    "duration": 52,
    "start_time": "2023-01-28T07:14:06.676Z"
   },
   {
    "duration": 8,
    "start_time": "2023-01-28T07:14:59.989Z"
   },
   {
    "duration": 8,
    "start_time": "2023-01-28T07:15:00.631Z"
   },
   {
    "duration": 4,
    "start_time": "2023-01-28T07:15:41.730Z"
   },
   {
    "duration": 154,
    "start_time": "2023-01-28T07:15:43.342Z"
   },
   {
    "duration": 341,
    "start_time": "2023-01-28T07:16:02.445Z"
   },
   {
    "duration": 112,
    "start_time": "2023-01-28T07:20:10.291Z"
   },
   {
    "duration": 30,
    "start_time": "2023-01-28T07:20:51.546Z"
   },
   {
    "duration": 641,
    "start_time": "2023-01-28T07:22:58.287Z"
   },
   {
    "duration": 44,
    "start_time": "2023-01-28T07:23:03.183Z"
   },
   {
    "duration": 616,
    "start_time": "2023-01-28T07:23:14.476Z"
   },
   {
    "duration": 42,
    "start_time": "2023-01-28T07:23:15.799Z"
   },
   {
    "duration": 917,
    "start_time": "2023-01-28T07:23:21.688Z"
   },
   {
    "duration": 59,
    "start_time": "2023-01-28T07:23:23.789Z"
   },
   {
    "duration": 419,
    "start_time": "2023-01-28T07:23:29.563Z"
   },
   {
    "duration": 39,
    "start_time": "2023-01-28T07:23:30.779Z"
   },
   {
    "duration": 501,
    "start_time": "2023-01-28T07:23:37.674Z"
   },
   {
    "duration": 40,
    "start_time": "2023-01-28T07:23:38.328Z"
   },
   {
    "duration": 635,
    "start_time": "2023-01-28T07:23:42.779Z"
   },
   {
    "duration": 705,
    "start_time": "2023-01-28T07:23:47.133Z"
   },
   {
    "duration": 628,
    "start_time": "2023-01-28T07:23:52.977Z"
   },
   {
    "duration": 44,
    "start_time": "2023-01-28T07:23:54.191Z"
   },
   {
    "duration": 393,
    "start_time": "2023-01-28T07:24:00.087Z"
   },
   {
    "duration": 37,
    "start_time": "2023-01-28T07:24:01.128Z"
   },
   {
    "duration": 619,
    "start_time": "2023-01-28T07:24:05.326Z"
   },
   {
    "duration": 42,
    "start_time": "2023-01-28T07:24:06.679Z"
   },
   {
    "duration": 39,
    "start_time": "2023-01-28T07:24:10.378Z"
   },
   {
    "duration": 7,
    "start_time": "2023-01-28T07:24:16.196Z"
   },
   {
    "duration": 9,
    "start_time": "2023-01-28T07:24:29.203Z"
   },
   {
    "duration": 48,
    "start_time": "2023-01-28T09:04:51.546Z"
   },
   {
    "duration": 1554,
    "start_time": "2023-01-28T09:04:57.449Z"
   },
   {
    "duration": 177,
    "start_time": "2023-01-28T09:04:59.351Z"
   },
   {
    "duration": 15,
    "start_time": "2023-01-28T09:05:00.137Z"
   },
   {
    "duration": 4,
    "start_time": "2023-01-28T09:05:02.428Z"
   },
   {
    "duration": 14,
    "start_time": "2023-01-28T09:05:05.738Z"
   },
   {
    "duration": 4,
    "start_time": "2023-01-28T09:05:06.654Z"
   },
   {
    "duration": 17,
    "start_time": "2023-01-28T09:05:10.590Z"
   },
   {
    "duration": 76,
    "start_time": "2023-01-28T09:05:14.480Z"
   },
   {
    "duration": 4,
    "start_time": "2023-01-28T09:06:27.536Z"
   },
   {
    "duration": 40,
    "start_time": "2023-01-28T09:06:29.034Z"
   },
   {
    "duration": 12,
    "start_time": "2023-01-28T09:06:30.019Z"
   },
   {
    "duration": 4,
    "start_time": "2023-01-28T09:06:31.834Z"
   },
   {
    "duration": 3,
    "start_time": "2023-01-28T09:06:34.745Z"
   },
   {
    "duration": 17,
    "start_time": "2023-01-28T09:06:37.469Z"
   },
   {
    "duration": 4,
    "start_time": "2023-01-28T09:06:40.999Z"
   },
   {
    "duration": 2,
    "start_time": "2023-01-28T09:06:43.138Z"
   },
   {
    "duration": 5,
    "start_time": "2023-01-28T09:06:52.654Z"
   },
   {
    "duration": 10,
    "start_time": "2023-01-28T09:07:03.680Z"
   },
   {
    "duration": 7,
    "start_time": "2023-01-28T09:07:12.297Z"
   },
   {
    "duration": 6,
    "start_time": "2023-01-28T09:07:22.486Z"
   },
   {
    "duration": 19,
    "start_time": "2023-01-28T09:07:28.262Z"
   },
   {
    "duration": 12,
    "start_time": "2023-01-28T09:07:40.807Z"
   },
   {
    "duration": 3,
    "start_time": "2023-01-28T09:08:25.625Z"
   },
   {
    "duration": 5,
    "start_time": "2023-01-28T09:08:36.631Z"
   },
   {
    "duration": 41,
    "start_time": "2023-01-28T09:08:38.455Z"
   },
   {
    "duration": 12,
    "start_time": "2023-01-28T09:08:39.035Z"
   },
   {
    "duration": 3,
    "start_time": "2023-01-28T09:08:39.571Z"
   },
   {
    "duration": 11,
    "start_time": "2023-01-28T09:08:41.492Z"
   },
   {
    "duration": 4,
    "start_time": "2023-01-28T09:08:42.359Z"
   },
   {
    "duration": 14,
    "start_time": "2023-01-28T09:08:47.645Z"
   },
   {
    "duration": 5,
    "start_time": "2023-01-28T09:08:57.475Z"
   },
   {
    "duration": 8,
    "start_time": "2023-01-28T09:09:03.393Z"
   },
   {
    "duration": 6,
    "start_time": "2023-01-28T09:09:04.044Z"
   },
   {
    "duration": 18,
    "start_time": "2023-01-28T09:09:06.625Z"
   },
   {
    "duration": 4,
    "start_time": "2023-01-28T09:09:07.583Z"
   },
   {
    "duration": 11,
    "start_time": "2023-01-28T09:09:10.380Z"
   },
   {
    "duration": 3,
    "start_time": "2023-01-28T09:09:13.158Z"
   },
   {
    "duration": 10,
    "start_time": "2023-01-28T09:09:13.647Z"
   },
   {
    "duration": 14,
    "start_time": "2023-01-28T09:09:14.431Z"
   },
   {
    "duration": 9,
    "start_time": "2023-01-28T09:09:14.935Z"
   },
   {
    "duration": 10,
    "start_time": "2023-01-28T09:09:16.692Z"
   },
   {
    "duration": 6,
    "start_time": "2023-01-28T09:09:19.130Z"
   },
   {
    "duration": 318,
    "start_time": "2023-01-28T09:09:21.225Z"
   },
   {
    "duration": 8,
    "start_time": "2023-01-28T09:09:22.224Z"
   },
   {
    "duration": 125,
    "start_time": "2023-01-28T09:09:25.970Z"
   },
   {
    "duration": 3,
    "start_time": "2023-01-28T09:09:31.386Z"
   },
   {
    "duration": 7,
    "start_time": "2023-01-28T09:09:32.530Z"
   },
   {
    "duration": 767,
    "start_time": "2023-01-28T09:09:33.674Z"
   },
   {
    "duration": 692,
    "start_time": "2023-01-28T09:09:38.497Z"
   },
   {
    "duration": 9,
    "start_time": "2023-01-28T09:09:39.567Z"
   },
   {
    "duration": 56,
    "start_time": "2023-01-28T09:09:40.836Z"
   },
   {
    "duration": 39,
    "start_time": "2023-01-28T09:09:45.275Z"
   },
   {
    "duration": 9,
    "start_time": "2023-01-28T09:09:47.546Z"
   },
   {
    "duration": 8,
    "start_time": "2023-01-28T09:09:48.326Z"
   },
   {
    "duration": 82,
    "start_time": "2023-01-28T09:09:49.401Z"
   },
   {
    "duration": 88,
    "start_time": "2023-01-28T09:10:00.955Z"
   },
   {
    "duration": 10,
    "start_time": "2023-01-28T09:10:01.938Z"
   },
   {
    "duration": 12,
    "start_time": "2023-01-28T09:10:04.508Z"
   },
   {
    "duration": 6,
    "start_time": "2023-01-28T09:10:05.427Z"
   },
   {
    "duration": 147,
    "start_time": "2023-01-28T09:10:07.416Z"
   },
   {
    "duration": 322,
    "start_time": "2023-01-28T09:10:08.853Z"
   },
   {
    "duration": 6,
    "start_time": "2023-01-28T09:10:15.582Z"
   },
   {
    "duration": 6,
    "start_time": "2023-01-28T09:10:17.246Z"
   },
   {
    "duration": 10,
    "start_time": "2023-01-28T09:10:18.924Z"
   },
   {
    "duration": 16,
    "start_time": "2023-01-28T09:10:21.530Z"
   },
   {
    "duration": 8,
    "start_time": "2023-01-28T09:10:23.629Z"
   },
   {
    "duration": 12,
    "start_time": "2023-01-28T09:10:24.605Z"
   },
   {
    "duration": 10,
    "start_time": "2023-01-28T09:10:27.747Z"
   },
   {
    "duration": 106,
    "start_time": "2023-01-28T09:10:30.847Z"
   },
   {
    "duration": 293,
    "start_time": "2023-01-28T09:10:33.250Z"
   },
   {
    "duration": 328,
    "start_time": "2023-01-28T09:10:34.914Z"
   },
   {
    "duration": 46,
    "start_time": "2023-01-28T09:10:38.649Z"
   },
   {
    "duration": 9,
    "start_time": "2023-01-28T09:10:39.762Z"
   },
   {
    "duration": 291,
    "start_time": "2023-01-28T09:10:40.974Z"
   },
   {
    "duration": 26,
    "start_time": "2023-01-28T09:10:42.344Z"
   },
   {
    "duration": 84,
    "start_time": "2023-01-28T09:10:44.855Z"
   },
   {
    "duration": 13,
    "start_time": "2023-01-28T09:10:45.570Z"
   },
   {
    "duration": 646,
    "start_time": "2023-01-28T09:10:49.627Z"
   },
   {
    "duration": 45,
    "start_time": "2023-01-28T09:10:51.034Z"
   },
   {
    "duration": 42,
    "start_time": "2023-01-28T09:10:51.884Z"
   },
   {
    "duration": 6,
    "start_time": "2023-01-28T09:10:53.237Z"
   },
   {
    "duration": 10,
    "start_time": "2023-01-28T09:10:54.060Z"
   },
   {
    "duration": 4,
    "start_time": "2023-01-28T09:11:55.263Z"
   },
   {
    "duration": 4,
    "start_time": "2023-01-28T09:12:08.242Z"
   },
   {
    "duration": 3,
    "start_time": "2023-01-28T09:13:20.632Z"
   },
   {
    "duration": 4,
    "start_time": "2023-01-28T09:13:48.387Z"
   },
   {
    "duration": 1595,
    "start_time": "2023-01-28T15:38:11.775Z"
   },
   {
    "duration": 107,
    "start_time": "2023-01-28T15:38:13.662Z"
   },
   {
    "duration": 20,
    "start_time": "2023-01-28T15:38:14.836Z"
   },
   {
    "duration": 5,
    "start_time": "2023-01-28T15:38:28.132Z"
   },
   {
    "duration": 38,
    "start_time": "2023-01-28T15:38:40.318Z"
   },
   {
    "duration": 14,
    "start_time": "2023-01-28T15:38:42.329Z"
   },
   {
    "duration": 17,
    "start_time": "2023-01-28T15:39:20.761Z"
   },
   {
    "duration": 4,
    "start_time": "2023-01-28T15:48:13.934Z"
   },
   {
    "duration": 111,
    "start_time": "2023-01-28T15:48:18.160Z"
   },
   {
    "duration": 15,
    "start_time": "2023-01-28T15:48:28.107Z"
   },
   {
    "duration": 12,
    "start_time": "2023-01-28T15:48:34.848Z"
   },
   {
    "duration": 4,
    "start_time": "2023-01-28T15:48:42.594Z"
   },
   {
    "duration": 14,
    "start_time": "2023-01-28T15:48:43.929Z"
   },
   {
    "duration": 10,
    "start_time": "2023-01-28T15:49:38.117Z"
   },
   {
    "duration": 35,
    "start_time": "2023-01-28T15:53:03.729Z"
   },
   {
    "duration": 16,
    "start_time": "2023-01-28T15:54:09.422Z"
   },
   {
    "duration": 53,
    "start_time": "2023-01-28T15:54:16.490Z"
   },
   {
    "duration": 12,
    "start_time": "2023-01-28T15:54:16.980Z"
   },
   {
    "duration": 3,
    "start_time": "2023-01-28T15:54:18.855Z"
   },
   {
    "duration": 27,
    "start_time": "2023-01-28T15:54:22.129Z"
   },
   {
    "duration": 14,
    "start_time": "2023-01-28T15:55:21.527Z"
   },
   {
    "duration": 13,
    "start_time": "2023-01-28T16:00:13.079Z"
   }
  ],
  "kernelspec": {
   "display_name": "Python 3 (ipykernel)",
   "language": "python",
   "name": "python3"
  },
  "language_info": {
   "codemirror_mode": {
    "name": "ipython",
    "version": 3
   },
   "file_extension": ".py",
   "mimetype": "text/x-python",
   "name": "python",
   "nbconvert_exporter": "python",
   "pygments_lexer": "ipython3",
   "version": "3.9.5"
  },
  "toc": {
   "base_numbering": 1,
   "nav_menu": {},
   "number_sections": true,
   "sideBar": true,
   "skip_h1_title": true,
   "title_cell": "Содержание",
   "title_sidebar": "Contents",
   "toc_cell": true,
   "toc_position": {
    "height": "calc(100% - 180px)",
    "left": "10px",
    "top": "150px",
    "width": "165px"
   },
   "toc_section_display": true,
   "toc_window_display": true
  }
 },
 "nbformat": 4,
 "nbformat_minor": 2
}
